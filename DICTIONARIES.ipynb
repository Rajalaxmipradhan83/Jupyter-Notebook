{
  "metadata": {
    "kernelspec": {
      "name": "python",
      "display_name": "Python (Pyodide)",
      "language": "python"
    },
    "language_info": {
      "codemirror_mode": {
        "name": "python",
        "version": 3
      },
      "file_extension": ".py",
      "mimetype": "text/x-python",
      "name": "python",
      "nbconvert_exporter": "python",
      "pygments_lexer": "ipython3",
      "version": "3.8"
    }
  },
  "nbformat_minor": 4,
  "nbformat": 4,
  "cells": [
    {
      "cell_type": "markdown",
      "source": "DICTIONARIES",
      "metadata": {}
    },
    {
      "cell_type": "code",
      "source": "# Create the dictionary\n\nDict = {\"key1:\" 1, \"key2:\" 2, \"key3:\" [3,3,3], \"key4:\" [4,4,4], ('key5'): 5,  (0,1): 6}\nDict",
      "metadata": {
        "trusted": true
      },
      "outputs": [],
      "execution_count": null
    },
    {
      "cell_type": "code",
      "source": "# Access to the value by the key\n\nDict[\"key1\"]",
      "metadata": {
        "trusted": true
      },
      "outputs": [],
      "execution_count": null
    },
    {
      "cell_type": "code",
      "source": "# Create a sample dictionary\n\nrelease_year_dict = {\"Thriller\": \"1982\", \"Back in Black\": \"1980\", \\\n                    \"The Dark Side of the Moon\": \"1973\", \"The Bodyguard\": \"1992\", \\\n                    \"Bat Out of Hell\": \"1977\", \"Their Greatest Hits (1971-1975)\": \"1976\", \\\n                    \"Saturday Night Fever\": \"1977\", \"Rumours\": \"1977\"}\nrelease_year_dict",
      "metadata": {
        "trusted": true
      },
      "outputs": [
        {
          "execution_count": 1,
          "output_type": "execute_result",
          "data": {
            "text/plain": "{'Thriller': '1982',\n 'Back in Black': '1980',\n 'The Dark Side of the Moon': '1973',\n 'The Bodyguard': '1992',\n 'Bat Out of Hell': '1977',\n 'Their Greatest Hits (1971-1975)': '1976',\n 'Saturday Night Fever': '1977',\n 'Rumours': '1977'}"
          },
          "metadata": {}
        }
      ],
      "execution_count": 1
    },
    {
      "cell_type": "code",
      "source": "KEYS",
      "metadata": {
        "trusted": true
      },
      "outputs": [],
      "execution_count": null
    },
    {
      "cell_type": "code",
      "source": "# Get value by keys\n\nrelease_year_dict = \"Thriller\"\nrelease_year_dict",
      "metadata": {
        "trusted": true
      },
      "outputs": [
        {
          "execution_count": 4,
          "output_type": "execute_result",
          "data": {
            "text/plain": "'Thriller'"
          },
          "metadata": {}
        }
      ],
      "execution_count": 4
    },
    {
      "cell_type": "code",
      "source": "# Get value by key\n\nrelease_year_dict['The Bodyguard']",
      "metadata": {
        "trusted": true
      },
      "outputs": [],
      "execution_count": 8
    },
    {
      "cell_type": "code",
      "source": "# Get all the keys in dictionary\n\nrelease_year_dict.keys() ",
      "metadata": {
        "trusted": true
      },
      "outputs": [],
      "execution_count": 10
    },
    {
      "cell_type": "code",
      "source": "# Append value with key into dictionary\n\nrelease_year_dict['Graduation'] = '2007'\nrelease_year_dict",
      "metadata": {
        "trusted": true
      },
      "outputs": [],
      "execution_count": null
    },
    {
      "cell_type": "code",
      "source": "# Delete entries by key\n\ndel(release_year_dict['Thriller'])\ndel(release_year_dict['Graduation'])\nrelease_year_dict",
      "metadata": {
        "trusted": true
      },
      "outputs": [],
      "execution_count": null
    },
    {
      "cell_type": "code",
      "source": "# Verify the key is in the dictionary\n\n'The Bodyguard' in release_year_dict",
      "metadata": {
        "trusted": true
      },
      "outputs": [],
      "execution_count": null
    },
    {
      "cell_type": "code",
      "source": "Quiz on Dictionaries",
      "metadata": {
        "trusted": true
      },
      "outputs": [],
      "execution_count": null
    },
    {
      "cell_type": "code",
      "source": "# # Question sample dictionary\n\nsoundtrack_dic = {\"The Bodyguard\":\"1992\", \"Saturday Night Fever\":\"1977\"}\nsoundtrack_dic ",
      "metadata": {
        "trusted": true
      },
      "outputs": [],
      "execution_count": null
    },
    {
      "cell_type": "code",
      "source": "# a) In the dictionary soundtrack_dic what are the keys ?\nsoundtrack_dic = {\"The Bodyguard\":\"1992\", \"Saturday Night Fever\":\"1977\"}\nsoundtrack_dic.keys() \n",
      "metadata": {
        "trusted": true
      },
      "outputs": [
        {
          "execution_count": 16,
          "output_type": "execute_result",
          "data": {
            "text/plain": "dict_keys(['The Bodyguard', 'Saturday Night Fever'])"
          },
          "metadata": {}
        }
      ],
      "execution_count": 16
    },
    {
      "cell_type": "code",
      "source": "# b) In the dictionary soundtrack_dic what are the values ?\n\nsoundtrack_dic = {\"The Bodyguard\":\"1992\", \"Saturday Night Fever\":\"1977\"}\nsoundtrack_dic.values()",
      "metadata": {
        "trusted": true
      },
      "outputs": [
        {
          "execution_count": 17,
          "output_type": "execute_result",
          "data": {
            "text/plain": "dict_values(['1992', '1977'])"
          },
          "metadata": {}
        }
      ],
      "execution_count": 17
    },
    {
      "cell_type": "code",
      "source": "# a) Create a dictionary album_sales_dict where the keys are the album name and the sales in millions are the values.\n\nalbum_sales_dict = {\"Black in Black\":50, \"The Bodyguard\":50, \"Thriller\":65}\nalbum_sales_dict\n\n                  ",
      "metadata": {
        "trusted": true
      },
      "outputs": [
        {
          "execution_count": 18,
          "output_type": "execute_result",
          "data": {
            "text/plain": "{'Black in Black': 50, 'The Bodyguard': 50, 'Thriller': 65}"
          },
          "metadata": {}
        }
      ],
      "execution_count": 18
    },
    {
      "cell_type": "code",
      "source": "# b) Use the dictionary to find the total sales of Thriller:\nalbum_sales_dict = {\"Black in Black\":50, \"The Bodyguard\":50, \"Thriller\":65}\ntotal_sales = album_sales_dict[\"Thriller\"]\ntotal_sales",
      "metadata": {
        "trusted": true
      },
      "outputs": [
        {
          "execution_count": 23,
          "output_type": "execute_result",
          "data": {
            "text/plain": "65"
          },
          "metadata": {}
        }
      ],
      "execution_count": 23
    },
    {
      "cell_type": "code",
      "source": "# c) Find the names of the albums from the dictionary using the method keys():\n\nalbum_sales_dict = {\"Black in Black\":50, \"The Bodyguard\":50, \"Thriller\":65}\nalbum_names = album_sales_dict.keys()\nalbum_names\n\n",
      "metadata": {
        "trusted": true
      },
      "outputs": [
        {
          "execution_count": 26,
          "output_type": "execute_result",
          "data": {
            "text/plain": "dict_keys(['Black in Black', 'The Bodyguard', 'Thriller'])"
          },
          "metadata": {}
        }
      ],
      "execution_count": 26
    },
    {
      "cell_type": "code",
      "source": "# d) Find the values of the recording sales from the dictionary using the method values:\n\nalbum_sales_dict = {\"Black in Black\":50, \"The Bodyguard\":50, \"Thriller\":65}\nsales_values = album_sales_dict.values()\nsales_values",
      "metadata": {
        "trusted": true
      },
      "outputs": [
        {
          "execution_count": 27,
          "output_type": "execute_result",
          "data": {
            "text/plain": "dict_values([50, 50, 65])"
          },
          "metadata": {}
        }
      ],
      "execution_count": 27
    },
    {
      "cell_type": "code",
      "source": "Scenario:Inventory Store\n",
      "metadata": {
        "trusted": true
      },
      "outputs": [],
      "execution_count": null
    },
    {
      "cell_type": "code",
      "source": "# Task-1 Create an empty dictionary\n\nInventory = {}",
      "metadata": {
        "trusted": true
      },
      "outputs": [],
      "execution_count": null
    },
    {
      "cell_type": "code",
      "source": "# Task-2 Store the first product details in variable\n\nProductNo1= \"Mobile phone\"\nProductNo1_Quantity= 5\nProductNo1_Price= 20000\nProductNo1_Release_Year= 2020\n\n",
      "metadata": {
        "trusted": true
      },
      "outputs": [],
      "execution_count": 49
    },
    {
      "cell_type": "code",
      "source": "# Task-3 Add the details in inventory\n# Initializing variables for the first product details\nProductNo1= \"Mobile phone\"\nProductNo1_Quantity= 5\nProductNo1_Price= 20000\nProductNo1_Release_Year= 2020\n\n# Initializing the inventory as a dictionary\nInventory = {}\n\n# Adding product details into the inventory\nInventory[\"ProductNo1\"] = c\nInventory[\"ProductNo1_Quantity\"] = ProductNo1_Quantity\nInventory[\"ProductNo1_Price\"] = ProductNo1_Price\nInventory[\"ProductNo1_Release_Year\"] = ProductNo1_Release_Year\n\nprint(Inventory)\n",
      "metadata": {
        "trusted": true
      },
      "outputs": [
        {
          "name": "stdout",
          "text": "{'ProductNo1': 'Mobile phone', 'ProductNo1_Quantity': 5, 'ProductNo1_Price': 20000, 'ProductNo1_Release_Year': 2020}\n",
          "output_type": "stream"
        }
      ],
      "execution_count": 51
    },
    {
      "cell_type": "code",
      "source": "# Task-4 Store the second product details in a variable.\n\nProductNo2_Name= \"Laptop\"\nProductNo2_Quantity= 10\nProductNo2_price = 50000\nProductNo2_Release_Year= 2023\n",
      "metadata": {
        "trusted": true
      },
      "outputs": [],
      "execution_count": 48
    },
    {
      "cell_type": "code",
      "source": "# Task-5 Add the item detail into the inventory\n\nProductNo2_Name= \"Laptop\"\nProductNo2_Quantity= 10\nProductNo2_price = 50000\nProductNo2_Release_Year= 2023\n\nInventory = {}\n\nInventory[\"ProductNo2_Name\"] = ProductNo2_Name\nInventory[\"ProductNo2_Quantity\"] = ProductNo2_Quantity\nInventory[\"ProductNo2_price\"] = ProductNo2_price\nInventory[\"ProductNo2_Release_Year\"] = ProductNo2_Release_Year\n\nprint(Inventory)\n\n",
      "metadata": {
        "trusted": true
      },
      "outputs": [
        {
          "name": "stdout",
          "text": "{'ProductNo2_Name': 'Laptop', 'ProductNo2_Quantity': 10, 'ProductNo2_price': 50000, 'ProductNo2_Release_Year': 2023}\n",
          "output_type": "stream"
        }
      ],
      "execution_count": 53
    },
    {
      "cell_type": "code",
      "source": "# Task-6 Display the Products present in the inventory\n\nprint(Inventory)",
      "metadata": {
        "trusted": true
      },
      "outputs": [
        {
          "name": "stdout",
          "text": "{'ProductNo2_Name': 'Laptop', 'ProductNo2_Quantity': 10, 'ProductNo2_price': 50000, 'ProductNo2_Release_Year': 2023}\n",
          "output_type": "stream"
        }
      ],
      "execution_count": 54
    },
    {
      "cell_type": "code",
      "source": "#Task-7 Check if ProductNo1_releaseYear and ProductNo2_releaseYear is in the inventory\n\nProductNo1_Release_Year in Inventory\nProductNo2_Release_Year in Inventory",
      "metadata": {
        "trusted": true
      },
      "outputs": [],
      "execution_count": 56
    },
    {
      "cell_type": "code",
      "source": "# Task-8 Delete release year of both the products from the inventory\n\ndel(Inventory[\"ProductNo1_Release_Year\"])\ndel(Inventory[\"ProductNo2_Release_Year\"])",
      "metadata": {
        "trusted": true
      },
      "outputs": [],
      "execution_count": null
    },
    {
      "cell_type": "code",
      "source": "",
      "metadata": {
        "trusted": true
      },
      "outputs": [],
      "execution_count": null
    },
    {
      "cell_type": "code",
      "source": "",
      "metadata": {
        "trusted": true
      },
      "outputs": [],
      "execution_count": null
    }
  ]
}