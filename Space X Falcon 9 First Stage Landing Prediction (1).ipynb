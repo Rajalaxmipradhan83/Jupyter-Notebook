{
 "cells": [
  {
   "cell_type": "code",
   "execution_count": null,
   "id": "e5469caf-ad40-4f51-b617-029442cda7b3",
   "metadata": {},
   "outputs": [],
   "source": [
    "Space X Falcon 9 First Stage Landing Prediction\n",
    "Lab 2: Data wrangling"
   ]
  },
  {
   "cell_type": "code",
   "execution_count": 2,
   "id": "c59dd15c-8614-4720-ab15-13c63dcd3e35",
   "metadata": {},
   "outputs": [
    {
     "name": "stdout",
     "output_type": "stream",
     "text": [
      "Requirement already satisfied: pandas in /opt/conda/lib/python3.12/site-packages (2.2.3)\n",
      "Requirement already satisfied: numpy>=1.26.0 in /opt/conda/lib/python3.12/site-packages (from pandas) (2.2.3)\n",
      "Requirement already satisfied: python-dateutil>=2.8.2 in /opt/conda/lib/python3.12/site-packages (from pandas) (2.9.0.post0)\n",
      "Requirement already satisfied: pytz>=2020.1 in /opt/conda/lib/python3.12/site-packages (from pandas) (2024.2)\n",
      "Requirement already satisfied: tzdata>=2022.7 in /opt/conda/lib/python3.12/site-packages (from pandas) (2025.1)\n",
      "Requirement already satisfied: six>=1.5 in /opt/conda/lib/python3.12/site-packages (from python-dateutil>=2.8.2->pandas) (1.17.0)\n",
      "Requirement already satisfied: numpy in /opt/conda/lib/python3.12/site-packages (2.2.3)\n"
     ]
    }
   ],
   "source": [
    "!pip install pandas\n",
    "!pip install numpy"
   ]
  },
  {
   "cell_type": "code",
   "execution_count": null,
   "id": "7528a37e-3a6e-4921-ae9a-86539ff35eff",
   "metadata": {},
   "outputs": [],
   "source": [
    "import pandas as pd\n",
    "import numpy as np\n",
    "\n",
    "# Load the dataset\n",
    "df = pd.read_csv(\"https://cf-courses-data.s3.us.cloud-object-storage.appdomain.cloud/IBM-DS0321EN-SkillsNetwork/datasets/dataset_part_1.csv\")\n",
    "\n",
    "# Display the first 10 rows\n",
    "df.head(10)\n",
    "\n",
    "# Identify and calculate the percentage of missing values\n",
    "missing_values = df.isnull().sum() / len(df) * 100\n",
    "print(\"Missing values percentage:\\n\", missing_values)\n",
    "\n",
    "# Identify numerical and categorical columns\n",
    "print(\"\\nData types:\\n\", df.dtypes)\n",
    "\n",
    "# TASK 1: Calculate the number of launches on each site\n",
    "launch_counts = df[\"LaunchSite\"].value_counts()\n",
    "print(\"\\nLaunch counts per site:\\n\", launch_counts)\n",
    "\n",
    "# TASK 2: Calculate the number and occurrence of each orbit\n",
    "orbit_counts = df[\"Orbit\"].value_counts()\n",
    "print(\"\\nOrbit occurrence:\\n\", orbit_counts)\n",
    "\n",
    "# TASK 3: Calculate the number and occurrence of mission outcomes\n",
    "landing_outcomes = df[\"Outcome\"].value_counts()\n",
    "print(\"\\nLanding outcomes:\\n\", landing_outcomes)\n",
    "\n",
    "# Print each unique outcome with an index\n",
    "for i, outcome in enumerate(landing_outcomes.keys()):\n",
    "    print(i, outcome)\n",
    "\n",
    "# Define bad outcomes\n",
    "bad_outcome = {\n",
    "    'Failure (parachute)', 'Failure (drone ship)', 'Failure (ground pad)',\n",
    "    'Precluded (drone ship)', 'Precluded (ground pad)', 'Lost (drone ship)',\n",
    "    'Lost (ground pad)', 'No attempt', 'Uncontrolled (ocean)'\n",
    "}\n",
    "\n",
    "# TASK 4: Create a landing outcome label from Outcome column\n",
    "df[\"landing_class\"] = df[\"Outcome\"].apply(lambda x: 0 if x in bad_outcome else 1)\n",
    "\n",
    "# Display Outcome vs. landing_class\n",
    "print(\"\\nFirst few rows with landing class:\\n\", df[[\"Outcome\", \"landing_class\"]].head())\n",
    "\n",
    "# Assign landing_class to a new column 'Class'\n",
    "df['Class'] = df[\"landing_class\"]\n",
    "\n",
    "# Display first few rows of Class\n",
    "print(\"\\nClass column:\\n\", df[['Class']].head(8))\n",
    "\n",
    "# Display first 5 rows of the dataset\n",
    "print(\"\\nUpdated dataset preview:\\n\", df.head(5))\n",
    "\n",
    "# Determine success rate\n",
    "success_rate = df[\"Class\"].mean()\n",
    "print(\"\\nSuccess rate:\", success_rate)\n",
    "\n",
    "# Save the updated dataset\n",
    "df.to_csv(\"dataset_part_2.csv\", index=False)\n"
   ]
  },
  {
   "cell_type": "code",
   "execution_count": null,
   "id": "9da7af27-9bbd-4203-a264-e73099863dce",
   "metadata": {},
   "outputs": [],
   "source": []
  }
 ],
 "metadata": {
  "kernelspec": {
   "display_name": "Python 3 (ipykernel)",
   "language": "python",
   "name": "python3"
  },
  "language_info": {
   "codemirror_mode": {
    "name": "ipython",
    "version": 3
   },
   "file_extension": ".py",
   "mimetype": "text/x-python",
   "name": "python",
   "nbconvert_exporter": "python",
   "pygments_lexer": "ipython3",
   "version": "3.12.8"
  }
 },
 "nbformat": 4,
 "nbformat_minor": 5
}
