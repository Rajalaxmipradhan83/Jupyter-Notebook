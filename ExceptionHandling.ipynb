{
 "cells": [
  {
   "cell_type": "code",
   "execution_count": 1,
   "id": "2d7b874f-2849-4a28-a6f0-b4b68c1d06ac",
   "metadata": {},
   "outputs": [
    {
     "ename": "ZeroDivisionError",
     "evalue": "division by zero",
     "output_type": "error",
     "traceback": [
      "\u001b[0;31m---------------------------------------------------------------------------\u001b[0m",
      "\u001b[0;31mZeroDivisionError\u001b[0m                         Traceback (most recent call last)",
      "Cell \u001b[0;32mIn[1], line 1\u001b[0m\n\u001b[0;32m----> 1\u001b[0m \u001b[38;5;241;43m1\u001b[39;49m\u001b[38;5;241;43m/\u001b[39;49m\u001b[38;5;241;43m0\u001b[39;49m\n",
      "\u001b[0;31mZeroDivisionError\u001b[0m: division by zero"
     ]
    }
   ],
   "source": [
    "1/0"
   ]
  },
  {
   "cell_type": "code",
   "execution_count": 2,
   "id": "e0bda0f3-9c85-4bd7-942d-218cd839b140",
   "metadata": {},
   "outputs": [
    {
     "ename": "NameError",
     "evalue": "name 'a' is not defined",
     "output_type": "error",
     "traceback": [
      "\u001b[0;31m---------------------------------------------------------------------------\u001b[0m",
      "\u001b[0;31mNameError\u001b[0m                                 Traceback (most recent call last)",
      "Cell \u001b[0;32mIn[2], line 1\u001b[0m\n\u001b[0;32m----> 1\u001b[0m y \u001b[38;5;241m=\u001b[39m \u001b[43ma\u001b[49m \u001b[38;5;241m+\u001b[39m \u001b[38;5;241m5\u001b[39m\n",
      "\u001b[0;31mNameError\u001b[0m: name 'a' is not defined"
     ]
    }
   ],
   "source": [
    "y = a + 5"
   ]
  },
  {
   "cell_type": "code",
   "execution_count": 3,
   "id": "8b64bddf-831f-4719-b05f-48351a4968a6",
   "metadata": {},
   "outputs": [
    {
     "ename": "IndexError",
     "evalue": "list index out of range",
     "output_type": "error",
     "traceback": [
      "\u001b[0;31m---------------------------------------------------------------------------\u001b[0m",
      "\u001b[0;31mIndexError\u001b[0m                                Traceback (most recent call last)",
      "Cell \u001b[0;32mIn[3], line 2\u001b[0m\n\u001b[1;32m      1\u001b[0m a \u001b[38;5;241m=\u001b[39m [\u001b[38;5;241m1\u001b[39m, \u001b[38;5;241m2\u001b[39m, \u001b[38;5;241m3\u001b[39m]\n\u001b[0;32m----> 2\u001b[0m \u001b[43ma\u001b[49m\u001b[43m[\u001b[49m\u001b[38;5;241;43m10\u001b[39;49m\u001b[43m]\u001b[49m\n",
      "\u001b[0;31mIndexError\u001b[0m: list index out of range"
     ]
    }
   ],
   "source": [
    "a = [1, 2, 3]\n",
    "a[10]"
   ]
  },
  {
   "cell_type": "markdown",
   "id": "f50c5e72-f277-4e32-86a4-c9463daf477d",
   "metadata": {},
   "source": [
    "Try Except Example"
   ]
  },
  {
   "cell_type": "code",
   "execution_count": 4,
   "id": "d9c3303a-8e54-4159-bc28-2fd1c6401946",
   "metadata": {},
   "outputs": [
    {
     "name": "stdin",
     "output_type": "stream",
     "text": [
      "Please enter a number to divide a 2\n"
     ]
    },
    {
     "name": "stdout",
     "output_type": "stream",
     "text": [
      "Success a= 0.5\n"
     ]
    }
   ],
   "source": [
    "a = 1\n",
    "\n",
    "try:\n",
    "    b = int(input(\"Please enter a number to divide a\"))\n",
    "    a = a/b\n",
    "    print(\"Success a=\",a)\n",
    "except ZeroDivisionError:\n",
    "    print(\"The number you provided cant divide 1 because it is 0\")\n",
    "except ValueError:\n",
    "    print(\"You did not provide a number\")\n",
    "except:\n",
    "    print(\"Something went wrong\")\n",
    "        \n"
   ]
  },
  {
   "cell_type": "markdown",
   "id": "f627c7e5-0567-4b18-b05f-736311162ff4",
   "metadata": {},
   "source": [
    "Try Except Else and Finally Example"
   ]
  },
  {
   "cell_type": "code",
   "execution_count": 5,
   "id": "0fef4987-0b22-46bd-af13-3082ed202346",
   "metadata": {},
   "outputs": [
    {
     "name": "stdin",
     "output_type": "stream",
     "text": [
      "Please enter a number to divide a 6\n"
     ]
    },
    {
     "name": "stdout",
     "output_type": "stream",
     "text": [
      "Success a= 0.16666666666666666\n",
      "Success a= 0.16666666666666666\n"
     ]
    }
   ],
   "source": [
    "a = 1\n",
    "\n",
    "try:\n",
    "    b = int(input(\"Please enter a number to divide a\"))\n",
    "    a = a/b\n",
    "    print(\"Success a=\",a)\n",
    "except ZeroDivisionError:\n",
    "    print(\"The number you provided cant divide 1 because it is 0\")\n",
    "except ValueError:\n",
    "    print(\"You did not provide a number\")\n",
    "except:\n",
    "    print(\"Something went wrong\")\n",
    "else:\n",
    "    print(\"Success a=\", a)\n",
    "    "
   ]
  },
  {
   "cell_type": "code",
   "execution_count": 6,
   "id": "5ae4ee09-f42a-4172-8980-10a41e3e65d4",
   "metadata": {},
   "outputs": [
    {
     "name": "stdin",
     "output_type": "stream",
     "text": [
      "Please enter a number to divide a 2\n"
     ]
    },
    {
     "name": "stdout",
     "output_type": "stream",
     "text": [
      "Success a= 0.5\n",
      "Success a= 0.5\n",
      "process completed\n"
     ]
    }
   ],
   "source": [
    "a = 1\n",
    "\n",
    "try:\n",
    "    b = int(input(\"Please enter a number to divide a\"))\n",
    "    a = a/b\n",
    "    print(\"Success a=\",a)\n",
    "except ZeroDivisionError:\n",
    "    print(\"The number you provided cant divide 1 because it is 0\")\n",
    "except ValueError:\n",
    "    print(\"You did not provide a number\")\n",
    "except:\n",
    "    print(\"Something went wrong\")\n",
    "else:\n",
    "    print(\"Success a=\", a)\n",
    "finally:\n",
    "    print(\"process completed\")"
   ]
  },
  {
   "cell_type": "markdown",
   "id": "1a6ee43a-7b5f-40b2-be76-e1815148c527",
   "metadata": {},
   "source": [
    "Practice Exercises Exercise 1: Handling ZeroDivisionError"
   ]
  },
  {
   "cell_type": "code",
   "execution_count": 7,
   "id": "d5631572-e835-45fb-bc07-c3fa153a93e9",
   "metadata": {},
   "outputs": [
    {
     "name": "stdin",
     "output_type": "stream",
     "text": [
      "Enter the numerator value:- 2\n",
      "Enter the denominator value:- 4\n"
     ]
    },
    {
     "name": "stdout",
     "output_type": "stream",
     "text": [
      "0.5\n"
     ]
    }
   ],
   "source": [
    "#you need to create a Python function called safe_divide\n",
    "#give this function two numbers, a 'numerator' and a 'denominator'\n",
    "#The 'numerator' is the number you want to divide, and the 'denominator'\n",
    "#The function should be able to do the division for you and give you the result. But here's the catch:\n",
    "#if you try to divide by zero (which is not allowed in math), the function should be smart enough \n",
    "#to catch that and tell you that it's not possible to divide by zero\n",
    "#Instead of showing an error, it should return None, which means 'nothing' or 'no value',\n",
    "#and print \"Error: Cannot divide by Zero.\n",
    "\n",
    "def safe_divide(numerator, denominator):\n",
    "    try:\n",
    "        result = numerator / denominator\n",
    "        return result\n",
    "    except ZeroDivisionError:\n",
    "        print(\"Error: Cannot divide by Zero.\") \n",
    "    return None \n",
    "          \n",
    "#test case\n",
    "\n",
    "numerator = int(input(\"Enter the numerator value:-\"))\n",
    "denominator = int(input(\"Enter the denominator value:-\"))\n",
    "print(safe_divide(numerator , denominator))\n",
    "    \n",
    "          "
   ]
  },
  {
   "cell_type": "markdown",
   "id": "9fa834b2-05fc-40e5-aa18-922c3c092655",
   "metadata": {},
   "source": [
    "Exercise 2: Handling ValueError"
   ]
  },
  {
   "cell_type": "code",
   "execution_count": 10,
   "id": "dcaecc92-52a1-412e-bca2-7ffa26b1acdb",
   "metadata": {},
   "outputs": [
    {
     "name": "stdin",
     "output_type": "stream",
     "text": [
      "Enter the number:- -9\n"
     ]
    },
    {
     "name": "stdout",
     "output_type": "stream",
     "text": [
      "Error:Invalid input! please enter a positive integer or float value\n",
      "None\n"
     ]
    }
   ],
   "source": [
    "#Imagine you have a number and want to calculate its square root. \n",
    "#To do this, you need to create a Python function. You give this function one number, 'number1'.\n",
    "#The function should generate the square root value if you provide a positive integer or float value as input. \n",
    "#However, the function should be clever enough to detect the mistake if you enter a negative value. \n",
    "#It should kindly inform you with a message saying, 'Invalid input! Please enter a positive integer or a float value.\n",
    "\n",
    "import math\n",
    "def perform_calculation(number1):\n",
    "    try:\n",
    "        result = math.sqrt(number1)\n",
    "        return result\n",
    "    except ValueError:\n",
    "        print(\"Error:Invalid input! please enter a positive integer or float value\")\n",
    " #test case\n",
    "number1 = float(input(\"Enter the number:-\"))\n",
    "print(perform_calculation(number1))"
   ]
  },
  {
   "cell_type": "markdown",
   "id": "8cfa39f4-9a00-40e5-b032-45df1687ba2f",
   "metadata": {},
   "source": [
    "Exercise 3: Handling Generic Exceptions\n"
   ]
  },
  {
   "cell_type": "code",
   "execution_count": 12,
   "id": "d4b139ce-b53f-44a8-bb9d-42bff3ed47e0",
   "metadata": {},
   "outputs": [
    {
     "name": "stdin",
     "output_type": "stream",
     "text": [
      "Enter a number:  10\n"
     ]
    },
    {
     "name": "stdout",
     "output_type": "stream",
     "text": [
      "Result: 2.0\n"
     ]
    }
   ],
   "source": [
    "#Imagine you have a number and want to perform a complex mathematical task. \n",
    "#The calculation requires dividing the value of the input argument \"num\" by the \n",
    "#difference between \"num\" and 5, and the result has to be stored in a variable called \"result\".\n",
    "#You have to define a function so that it can perform that complex mathematical task. \n",
    "#The function should handle any potential errors that occur during the calculation. \n",
    "#To do this, you can use a try-except block. If any exception arises during the calculation,\n",
    "#it should catch the error using the generic exception class \"Exception\" as \"e\". \n",
    "#When an exception occurs, the function should display \"An error occurred during calculation.\n",
    "\n",
    "def complex_calculation(num):\n",
    "    try:\n",
    "        result =  num / (num - 5)\n",
    "        print (f\"Result: {result}\")\n",
    "    except Exception as e:\n",
    "        print(\"An error occurred during calculation.\")\n",
    "# Test case\n",
    "user_input = float(input(\"Enter a number: \"))\n",
    "complex_calculation(user_input)"
   ]
  },
  {
   "cell_type": "code",
   "execution_count": null,
   "id": "d276a5bc-d5cf-4ad7-8b1f-3280fcb3c11d",
   "metadata": {},
   "outputs": [],
   "source": []
  }
 ],
 "metadata": {
  "kernelspec": {
   "display_name": "Python 3 (ipykernel)",
   "language": "python",
   "name": "python3"
  },
  "language_info": {
   "codemirror_mode": {
    "name": "ipython",
    "version": 3
   },
   "file_extension": ".py",
   "mimetype": "text/x-python",
   "name": "python",
   "nbconvert_exporter": "python",
   "pygments_lexer": "ipython3",
   "version": "3.12.8"
  }
 },
 "nbformat": 4,
 "nbformat_minor": 5
}
