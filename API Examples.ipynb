{
 "cells": [
  {
   "cell_type": "code",
   "execution_count": 1,
   "id": "0b700392-954b-4a01-920f-8127ddb663c6",
   "metadata": {},
   "outputs": [
    {
     "name": "stdout",
     "output_type": "stream",
     "text": [
      "Collecting randomuser\n",
      "  Downloading randomuser-1.6.tar.gz (5.0 kB)\n",
      "  Preparing metadata (setup.py) ... \u001b[?25done\n",
      "\u001b[?25hBuilding wheels for collected packages: randomuser\n",
      "  Building wheel for randomuser (setup.py) ... \u001b[?25done\n",
      "\u001b[?25h  Created wheel for randomuser: filename=randomuser-1.6-py3-none-any.whl size=5104 sha256=1a6cb717367990d7127d29569d6bfd41991d1c67ff9da823881a3ad09b81af3b\n",
      "  Stored in directory: /home/jupyterlab/.cache/pip/wheels/be/62/c8/71e1b48f4758ea5b78af7595d87178f628cde315a3326610ee\n",
      "Successfully built randomuser\n",
      "Installing collected packages: randomuser\n",
      "Successfully installed randomuser-1.6\n"
     ]
    }
   ],
   "source": [
    "!pip install randomuser"
   ]
  },
  {
   "cell_type": "code",
   "execution_count": 2,
   "id": "4056cd6f-6899-407b-ad1e-178cdac2f4e8",
   "metadata": {},
   "outputs": [
    {
     "name": "stdout",
     "output_type": "stream",
     "text": [
      "Collecting pandas\n",
      "  Downloading pandas-2.2.3-cp312-cp312-manylinux_2_17_x86_64.manylinux2014_x86_64.whl.metadata (89 kB)\n",
      "Collecting numpy>=1.26.0 (from pandas)\n",
      "  Downloading numpy-2.2.2-cp312-cp312-manylinux_2_17_x86_64.manylinux2014_x86_64.whl.metadata (62 kB)\n",
      "Requirement already satisfied: python-dateutil>=2.8.2 in /opt/conda/lib/python3.12/site-packages (from pandas) (2.9.0.post0)\n",
      "Requirement already satisfied: pytz>=2020.1 in /opt/conda/lib/python3.12/site-packages (from pandas) (2024.2)\n",
      "Collecting tzdata>=2022.7 (from pandas)\n",
      "  Downloading tzdata-2025.1-py2.py3-none-any.whl.metadata (1.4 kB)\n",
      "Requirement already satisfied: six>=1.5 in /opt/conda/lib/python3.12/site-packages (from python-dateutil>=2.8.2->pandas) (1.17.0)\n",
      "Downloading pandas-2.2.3-cp312-cp312-manylinux_2_17_x86_64.manylinux2014_x86_64.whl (12.7 MB)\n",
      "\u001b[2K   \u001b[90m━━━━━━━━━━━━━━━━━━━━━━━━━━━━━━━━━━━━━━━━\u001b[0m \u001b[32m12.7/12.7 MB\u001b[0m \u001b[31m167.1 MB/s\u001b[0m eta \u001b[36m0:00:00\u001b[0m\n",
      "\u001b[?25hDownloading numpy-2.2.2-cp312-cp312-manylinux_2_17_x86_64.manylinux2014_x86_64.whl (16.1 MB)\n",
      "\u001b[2K   \u001b[90m━━━━━━━━━━━━━━━━━━━━━━━━━━━━━━━━━━━━━━━━\u001b[0m \u001b[32m16.1/16.1 MB\u001b[0m \u001b[31m172.9 MB/s\u001b[0m eta \u001b[36m0:00:00\u001b[0m\n",
      "\u001b[?25hDownloading tzdata-2025.1-py2.py3-none-any.whl (346 kB)\n",
      "Installing collected packages: tzdata, numpy, pandas\n",
      "Successfully installed numpy-2.2.2 pandas-2.2.3 tzdata-2025.1\n"
     ]
    }
   ],
   "source": [
    "!pip install pandas"
   ]
  },
  {
   "cell_type": "markdown",
   "id": "d88572cc-899f-479e-99c9-6d6994fbcbff",
   "metadata": {},
   "source": [
    "Then, we will load the necessary libraries."
   ]
  },
  {
   "cell_type": "code",
   "execution_count": 3,
   "id": "4e18c614-a5dd-4f2d-b847-4feda4f6a007",
   "metadata": {},
   "outputs": [],
   "source": [
    "from randomuser import RandomUser\n",
    "import pandas as pd"
   ]
  },
  {
   "cell_type": "markdown",
   "id": "8b157712-fc48-47c2-82dd-a14d65aac6d9",
   "metadata": {},
   "source": [
    "First, we will create a random user object, r."
   ]
  },
  {
   "cell_type": "code",
   "execution_count": 15,
   "id": "67cd9faf-9902-4351-aa54-803153da1506",
   "metadata": {},
   "outputs": [
    {
     "name": "stdout",
     "output_type": "stream",
     "text": [
      "Holger Lübke   holger.lubke@example.com\n",
      "Alexis Macdonald   alexis.macdonald@example.com\n",
      "Olenka Vieira   olenka.vieira@example.com\n",
      "Ananias Farias   ananias.farias@example.com\n",
      "Joel Kelley   joel.kelley@example.com\n",
      "Ilona Salmi   ilona.salmi@example.com\n",
      "Joakim Noor   joakim.noor@example.com\n",
      "النا كامياران   ln.kmyrn@example.com\n",
      "Bonnie Carlson   bonnie.carlson@example.com\n",
      "Nihal Yıldızoğlu   nihal.yildizoglu@example.com\n"
     ]
    }
   ],
   "source": [
    "from randomuser import RandomUser\n",
    "import pandas as pd\n",
    "#First, we will create a random user object, r.\n",
    "\n",
    "r = RandomUser() \n",
    "\n",
    "#Then, using generate_users() function, we get a list of random 10 users.\n",
    "\n",
    "some_list = r.generate_users(10)\n",
    "some_list\n",
    "\n",
    "#The \"Get Methods\" functions mentioned at the beginning of this notebook, \n",
    "#can generate the required parameters to construct a dataset. For example, \n",
    "#to get full name, we call get_full_name() function.\n",
    "\n",
    "name = r.get_full_name()\n",
    "\n",
    "#Let's say we only need 10 users with full names and their email addresses. \n",
    "#We can write a \"for-loop\" to print these 10 users.\n",
    "\n",
    "for user in some_list:\n",
    "    print (user.get_full_name(),\" \",user.get_email())"
   ]
  },
  {
   "cell_type": "markdown",
   "id": "40466d8e-f341-4064-8be5-69acc7c3e417",
   "metadata": {},
   "source": [
    "Exercise 1\n",
    "In this Exercise, generate photos of the random 10 users."
   ]
  },
  {
   "cell_type": "code",
   "execution_count": 21,
   "id": "5fb61c97-75dd-4768-9095-4ca17342b8ce",
   "metadata": {},
   "outputs": [
    {
     "name": "stdout",
     "output_type": "stream",
     "text": [
      "https://randomuser.me/api/portraits/men/12.jpg\n",
      "https://randomuser.me/api/portraits/men/0.jpg\n",
      "https://randomuser.me/api/portraits/women/85.jpg\n",
      "https://randomuser.me/api/portraits/men/51.jpg\n",
      "https://randomuser.me/api/portraits/men/10.jpg\n",
      "https://randomuser.me/api/portraits/women/84.jpg\n",
      "https://randomuser.me/api/portraits/men/51.jpg\n",
      "https://randomuser.me/api/portraits/women/36.jpg\n",
      "https://randomuser.me/api/portraits/women/11.jpg\n",
      "https://randomuser.me/api/portraits/men/71.jpg\n"
     ]
    }
   ],
   "source": [
    "for user in some_list:\n",
    "    print (user.get_picture())"
   ]
  },
  {
   "cell_type": "code",
   "execution_count": 28,
   "id": "712f148d-e945-48de-840f-adf58ac8bb7e",
   "metadata": {},
   "outputs": [
    {
     "name": "stdout",
     "output_type": "stream",
     "text": [
      "               Name  Gender        City        State  \\\n",
      "0     Edwin Winkler    male     Katlijk      Utrecht   \n",
      "1   Alexis Bélanger    male    Flatrock  Nova Scotia   \n",
      "2    Simon Andersen    male      Lemvig     Sjælland   \n",
      "3        Louis Wood    male      Nelson        Otago   \n",
      "4       Van Gautier    male  Vullierens    Neuchâtel   \n",
      "5         Fred Long    male    Hereford        Powys   \n",
      "6       Indie Smith  female      Timaru  Hawke'S Bay   \n",
      "7  Anthony Harcourt    male   Princeton        Yukon   \n",
      "8   Noémie Campbell  female    Carleton     Manitoba   \n",
      "9   Albert Petersen    male   Stoevring  Hovedstaden   \n",
      "\n",
      "                          Email                       DOB  \\\n",
      "0     edwin.winkler@example.com  1991-01-18T02:07:31.917Z   \n",
      "1   alexis.belanger@example.com  1968-08-07T03:27:59.934Z   \n",
      "2    simon.andersen@example.com  1965-12-11T05:00:20.514Z   \n",
      "3        louis.wood@example.com  1987-05-28T16:50:32.677Z   \n",
      "4       van.gautier@example.com  1983-03-12T15:30:46.560Z   \n",
      "5         fred.long@example.com  1956-02-10T16:15:13.130Z   \n",
      "6       indie.smith@example.com  1978-01-26T20:10:58.586Z   \n",
      "7  anthony.harcourt@example.com  1945-05-25T03:02:49.626Z   \n",
      "8   noemie.campbell@example.com  1967-07-26T05:19:31.206Z   \n",
      "9   albert.petersen@example.com  1956-09-04T11:25:36.689Z   \n",
      "\n",
      "                                            Picture  \n",
      "0    https://randomuser.me/api/portraits/men/44.jpg  \n",
      "1    https://randomuser.me/api/portraits/men/89.jpg  \n",
      "2    https://randomuser.me/api/portraits/men/63.jpg  \n",
      "3    https://randomuser.me/api/portraits/men/35.jpg  \n",
      "4    https://randomuser.me/api/portraits/men/36.jpg  \n",
      "5     https://randomuser.me/api/portraits/men/7.jpg  \n",
      "6  https://randomuser.me/api/portraits/women/92.jpg  \n",
      "7    https://randomuser.me/api/portraits/men/34.jpg  \n",
      "8  https://randomuser.me/api/portraits/women/78.jpg  \n",
      "9    https://randomuser.me/api/portraits/men/79.jpg  \n"
     ]
    }
   ],
   "source": [
    "\n",
    "import pandas as pd\n",
    "from randomuser import RandomUser\n",
    "\n",
    "#To generate a table with information about the users, we can write a function containing \n",
    "#all desirable parameters. For example, name, gender, city, etc. \n",
    "#The parameters will depend on the requirements of the test to be performed. \n",
    "#We call the Get Methods, listed at the beginning of this notebook. Then, we return pandas dataframe with the users.\n",
    "\n",
    "# Function to generate users and return as a DataFrame\n",
    "def get_users():\n",
    "    users = []\n",
    "    \n",
    "    # Generate 10 random users\n",
    "    for user in RandomUser.generate_users(10):\n",
    "        # Collect user attributes\n",
    "        users.append({\n",
    "            \"Name\": user.get_full_name(),\n",
    "            \"Gender\": user.get_gender(),\n",
    "            \"City\": user.get_city(),\n",
    "            \"State\": user.get_state(),\n",
    "            \"Email\": user.get_email(),\n",
    "            \"DOB\": user.get_dob(),\n",
    "            \"Picture\": user.get_picture()\n",
    "        })\n",
    "    \n",
    "    # Convert the list of dictionaries into a pandas DataFrame\n",
    "    return pd.DataFrame(users)\n",
    "\n",
    "# Generate the DataFrame\n",
    "df1 = get_users()\n",
    "\n",
    "# Display the DataFrame\n",
    "print(df1)"
   ]
  },
  {
   "cell_type": "markdown",
   "id": "d62153da-d5c3-49c9-ab8e-c4995254cb7e",
   "metadata": {},
   "source": [
    "Example 2: Fruityvice API\n",
    "Another, more common way to use APIs, is through requests library. \n",
    "The next lab, Requests and HTTP, will contain more information about requests.\n",
    "\n",
    "We will start by importing all required libraries."
   ]
  },
  {
   "cell_type": "code",
   "execution_count": 39,
   "id": "28679cb3-dc24-46d7-bae1-7955ab93b9f2",
   "metadata": {},
   "outputs": [
    {
     "data": {
      "text/plain": [
       "np.int64(96)"
      ]
     },
     "execution_count": 39,
     "metadata": {},
     "output_type": "execute_result"
    }
   ],
   "source": [
    "import requests\n",
    "import json\n",
    "\n",
    "#We will obtain the fruityvice API data using requests.get(\"url\") function. The data is in a json format.\n",
    "data = requests.get(\"https://web.archive.org/web/20240929211114/https://fruityvice.com/api/fruit/all\")\n",
    "\n",
    "#We will retrieve results using json.loads() function.\n",
    "results = json.loads(data.text)\n",
    "\n",
    "#We will convert our json data into pandas data frame.\n",
    "pd.DataFrame(results)\n",
    "\n",
    "#The result is in a nested json format. The 'nutrition' column contains multiple subcolumns, \n",
    "#so the data needs to be 'flattened' or normalized.\n",
    "\n",
    "df2 = pd.json_normalize(results)\n",
    "df2\n",
    "\n",
    "#Let's see if we can extract some information from this dataframe. Perhaps, \n",
    "#we need to know the family and genus of a cherry.\n",
    "\n",
    "#cherry = df2.loc[df2[\"name\"] == 'Cherry']\n",
    "#(cherry.iloc[0]['family']) , (cherry.iloc[0]['genus'])\n",
    "\n",
    "#cal_banana = df2.loc[df2[\"name\"] == 'Banana']\n",
    "#cal_banana.iloc[0]['nutritions.calories']"
   ]
  },
  {
   "cell_type": "markdown",
   "id": "86592568-689b-4822-9042-acf13909149f",
   "metadata": {},
   "source": [
    "Exercise 2\n",
    "In this Exercise, find out how many calories are contained in a banana."
   ]
  },
  {
   "cell_type": "code",
   "execution_count": 38,
   "id": "30867313-c1ec-4a0f-a614-2a85ef4209c8",
   "metadata": {},
   "outputs": [
    {
     "data": {
      "text/plain": [
       "np.int64(96)"
      ]
     },
     "execution_count": 38,
     "metadata": {},
     "output_type": "execute_result"
    }
   ],
   "source": [
    "cal_banana = df2.loc[df2[\"name\"] == 'Banana']\n",
    "cal_banana.iloc[0]['nutritions.calories']"
   ]
  },
  {
   "cell_type": "markdown",
   "id": "cc2b825e-dc2d-47fc-8483-21d95ea4b1e9",
   "metadata": {},
   "source": [
    "Exercise 3\n",
    "This page contains a list of free public APIs for you to practice. Let us deal with the following example.\n",
    "\n",
    "Official Joke API\n",
    "This API returns random jokes from a database. The following URL can be used to retrieve 10 random jokes.\n",
    "\n",
    "https://official-joke-api.appspot.com/jokes/ten\n",
    "\n"
   ]
  },
  {
   "cell_type": "code",
   "execution_count": 43,
   "id": "3e7ac29a-e7b3-426b-b736-091f87cef4ba",
   "metadata": {},
   "outputs": [],
   "source": [
    "#1.Using requests.get(\"url\") function, load the data from the URL.\n",
    "\n",
    "data2 = requests.get(\"https://official-joke-api.appspot.com/jokes/ten\")\n",
    "\n",
    "#2.Retrieve results using json.loads() function.\n",
    "\n",
    "results2 = json.loads(data2.text)\n",
    "\n",
    "#3."
   ]
  },
  {
   "cell_type": "markdown",
   "id": "68a0439c-57c6-4851-8cc8-6f5a9f035e44",
   "metadata": {},
   "source": []
  }
 ],
 "metadata": {
  "kernelspec": {
   "display_name": "Python 3 (ipykernel)",
   "language": "python",
   "name": "python3"
  },
  "language_info": {
   "codemirror_mode": {
    "name": "ipython",
    "version": 3
   },
   "file_extension": ".py",
   "mimetype": "text/x-python",
   "name": "python",
   "nbconvert_exporter": "python",
   "pygments_lexer": "ipython3",
   "version": "3.12.8"
  }
 },
 "nbformat": 4,
 "nbformat_minor": 5
}
